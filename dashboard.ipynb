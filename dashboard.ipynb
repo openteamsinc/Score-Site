{
 "cells": [
  {
   "cell_type": "code",
   "execution_count": null,
   "metadata": {},
   "outputs": [],
   "source": [
    "import requests\n",
    "import re\n",
    "from collections import defaultdict\n",
    "import json\n",
    "\n",
    "requirements_re = re.compile(r'^([\\w.-]+)\\s*([<>=!~]+)\\s*([\\w.-]+)$')\n",
    "\n",
    "# Test cases\n",
    "test_cases = [\n",
    "    'requests==2.22.0',\n",
    "    'numpy>=1.18.1',\n",
    "    'django<3.0',\n",
    "    'python-dateutil>=2.8.1'\n",
    "]\n",
    "\n",
    "for req in test_cases:\n",
    "    match = requirements_re.match(req)\n",
    "    if match:\n",
    "        name, comp, version = match.groups()\n",
    "        print(f\"Package: {name}, Comparator: {comp}, Version: {version}\")"
   ]
  },
  {
   "cell_type": "code",
   "execution_count": null,
   "metadata": {},
   "outputs": [],
   "source": [
    "# Python requirements NAME [COMPARATOR VERSION]\n",
    "\n",
    "# requirements_re = re.compile(r'^([\\w_-]+)([<>=!]+)([\\w]+)$') << wrong\n",
    "# requirements_re.match('requests==2.22.0')\n",
    "\n",
    "equirements_re = re.compile(r'^([\\w_-]+)([<>=!]+)([\\w.]+)$')"
   ]
  },
  {
   "cell_type": "code",
   "execution_count": null,
   "metadata": {},
   "outputs": [],
   "source": [
    "with open('./checkme/constraints.txt', 'r') as fd: \n",
    "    lines = fd.read().splitlines()\n",
    "\n",
    "constraints = {}\n",
    "for line in lines:\n",
    "    match = requirements_re.match(line)\n",
    "    \n",
    "    if not match:\n",
    "        print(f\"Invalid requirement: {line}\")\n",
    "        continue\n",
    "        \n",
    "    name, comp, version = match.groups()\n",
    "    constraints[name] = (comp, version)\n",
    "constraints\n"
   ]
  },
  {
   "cell_type": "code",
   "execution_count": null,
   "metadata": {},
   "outputs": [],
   "source": [
    "with open('./repos-req.txt', 'r') as fd: \n",
    "    lines = fd.read().splitlines()\n",
    "\n",
    "requirements = {}\n",
    "for line in lines:\n",
    "    match = requirements_re.match(line)\n",
    "    \n",
    "    if not match:\n",
    "        print(f\"Invalid requirement: {line}\")\n",
    "        continue\n",
    "        \n",
    "    name, comp, version = match.groups()\n",
    "    requirements[name] = (comp, version)\n",
    "requirements\n"
   ]
  },
  {
   "cell_type": "code",
   "execution_count": null,
   "metadata": {},
   "outputs": [],
   "source": [
    "# requirements\n",
    "scores  = {\n",
    "    pkg: requests.get(f'http://localhost:3000/api/package/pypi/{pkg}').json() for pkg in constraints.keys()\n",
    "}"
   ]
  },
  {
   "cell_type": "code",
   "execution_count": null,
   "metadata": {},
   "outputs": [],
   "source": [
    "scores['deprecation']"
   ]
  },
  {
   "cell_type": "code",
   "execution_count": null,
   "metadata": {},
   "outputs": [],
   "source": [
    "sd = lambda: defaultdict(lambda: set())"
   ]
  },
  {
   "cell_type": "code",
   "execution_count": null,
   "metadata": {},
   "outputs": [],
   "source": [
    "maturity_scores = {\"direct\": sd(), \"indirect\": sd()}\n",
    "health_risk_scores = {\"direct\": sd(), \"indirect\": sd()}\n",
    "maturity_notes = defaultdict(lambda: set())\n",
    "health_risk_notes = defaultdict(lambda: set())\n",
    "for pkg_name, score in scores.items():\n",
    "    where = 'direct' if pkg_name in requirements else 'indirect'\n",
    "    if 'error' in score:\n",
    "        maturity_scores[where]['Unknown'].add(pkg_name)\n",
    "        continue\n",
    "    maturity_scores[where][score['source']['maturity']['value']].add(pkg_name)\n",
    "    health_risk_scores[where][score['source']['health_risk']['value']].add(pkg_name)\n",
    "\n",
    "    for note in score['source']['health_risk']['notes']:\n",
    "        health_risk_notes[note].add(pkg_name)"
   ]
  },
  {
   "cell_type": "code",
   "execution_count": null,
   "metadata": {},
   "outputs": [],
   "source": [
    "\n",
    "print(f'maturity   ', \" \".join([f'{k}: {len(v)}' for k,v in maturity_scores.items()]))\n",
    "print(f'health risk', \" \".join([f'{k}: {len(v)}' for k,v in health_risk_scores.items()]))"
   ]
  },
  {
   "cell_type": "code",
   "execution_count": null,
   "metadata": {},
   "outputs": [],
   "source": [
    "# .update(maturity_scores.pop(['Not Found']))\n",
    "nf = \n"
   ]
  },
  {
   "cell_type": "code",
   "execution_count": null,
   "metadata": {},
   "outputs": [],
   "source": [
    "maturity_scores['Unknown'].update(maturity_scores.pop('Not Found'))"
   ]
  },
  {
   "cell_type": "code",
   "execution_count": null,
   "metadata": {},
   "outputs": [],
   "source": [
    "def json_default(obj):\n",
    "    if isinstance(obj, set):\n",
    "        return list(obj)\n",
    "    return obj\n",
    "\n",
    "print(json.dumps({\n",
    "    \"health_risk\": {\"direct\": {k:len(v) for k,v in health_risk_scores['direct'].items()},\n",
    "                    \"indirect\": {k:len(v) for k,v in health_risk_scores['indirect'].items()},\n",
    "                    },\n",
    "    \"maturity_scores\": {\n",
    "        \"direct\": {k:len(v) for k,v in maturity_scores['direct'].items()},\n",
    "        \"indirect\": {k:len(v) for k,v in maturity_scores['indirect'].items()},\n",
    "                        },\n",
    "}, indent=2, default=json_default))"
   ]
  },
  {
   "cell_type": "code",
   "execution_count": null,
   "metadata": {},
   "outputs": [],
   "source": [
    "{k:list(v) for k,v in health_risk_notes.items()}"
   ]
  },
  {
   "cell_type": "code",
   "execution_count": null,
   "metadata": {},
   "outputs": [],
   "source": [
    "print(json.dumps({k:list(v) for k,v in health_risk_notes.items()}, indent=2))"
   ]
  },
  {
   "cell_type": "code",
   "execution_count": null,
   "metadata": {},
   "outputs": [],
   "source": [
    "for note, pkgs in health_risk_notes.items():\n",
    "    print(note, len(pkgs))\n",
    "    for pkg in pkgs:\n",
    "        print(f'  {pkg}') "
   ]
  },
  {
   "cell_type": "code",
   "execution_count": null,
   "metadata": {},
   "outputs": [],
   "source": []
  }
 ],
 "metadata": {
  "kernelspec": {
   "display_name": "venv10",
   "language": "python",
   "name": "python3"
  },
  "language_info": {
   "codemirror_mode": {
    "name": "ipython",
    "version": 3
   },
   "file_extension": ".py",
   "mimetype": "text/x-python",
   "name": "python",
   "nbconvert_exporter": "python",
   "pygments_lexer": "ipython3",
   "version": "3.10.13"
  }
 },
 "nbformat": 4,
 "nbformat_minor": 2
}
